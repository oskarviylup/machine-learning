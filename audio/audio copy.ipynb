{
 "cells": [
  {
   "cell_type": "code",
   "execution_count": 1,
   "id": "b7b43ff530dccd8f",
   "metadata": {
    "collapsed": false,
    "ExecuteTime": {
     "end_time": "2025-02-18T12:37:04.728625Z",
     "start_time": "2025-02-18T12:37:02.512833Z"
    }
   },
   "outputs": [],
   "source": [
    "import os\n",
    "import pandas as pd\n",
    "import librosa.feature\n",
    "import torch.nn as nn\n",
    "import torch.optim as optim\n",
    "import matplotlib\n",
    "matplotlib.use('TkAgg')\n",
    "from matplotlib import pyplot as plt\n",
    "from torch.utils.data import Dataset, random_split\n",
    "from sklearn.metrics import accuracy_score, precision_score, recall_score\n",
    "import numpy as np\n",
    "import torch\n",
    "from torch.utils.data import DataLoader\n",
    "from sklearn.manifold import TSNE"
   ]
  },
  {
   "cell_type": "code",
   "outputs": [
    {
     "name": "stdout",
     "output_type": "stream",
     "text": [
      "                              file_path  label\n",
      "0  clips17/common_voice_en_40117514.mp3      0\n",
      "1  clips17/common_voice_en_39603786.mp3      0\n",
      "2  clips17/common_voice_en_40048623.mp3      0\n",
      "3  clips17/common_voice_en_39602035.mp3      0\n",
      "4  clips17/common_voice_en_39593984.mp3      0\n"
     ]
    }
   ],
   "source": [
    "CLIPS_PATH = os.path.join(\"clips_filtered\")\n",
    "CSV_PATH = os.path.join(\"all_validated.tsv\")\n",
    "\n",
    "df = pd.read_csv(CSV_PATH, sep=\"\\t\")\n",
    "\n",
    "df = df[df[\"gender\"].notna()]\n",
    "df = df[df[\"gender\"].isin([\"male_masculine\", \"female_feminine\"])]\n",
    "\n",
    "df[\"file_path\"] = df[\"path\"].apply(lambda x: os.path.join(CLIPS_PATH, x))\n",
    "df[\"label\"] = df[\"gender\"].map({\"male_masculine\": 0, \"female_feminine\": 1})\n",
    "\n",
    "df = df[df[\"file_path\"].apply(os.path.exists)]\n",
    "\n",
    "df = df[[\"file_path\", \"label\"]]\n",
    "\n",
    "print(df.head())"
   ],
   "metadata": {
    "collapsed": false,
    "ExecuteTime": {
     "end_time": "2025-02-18T12:37:04.885587Z",
     "start_time": "2025-02-18T12:37:04.727577Z"
    }
   },
   "id": "6d2aebc8e2a0bf3",
   "execution_count": 2
  },
  {
   "cell_type": "code",
   "outputs": [],
   "source": [
    "def extract_mfcc(file_path, n_mfcc=13, max_len=100):\n",
    "    y, sr = librosa.load(file_path, sr=22050)\n",
    "    mfcc = librosa.feature.mfcc(y=y, sr=sr, n_mfcc=n_mfcc)\n",
    "    if mfcc.shape[1] > max_len:\n",
    "        mfcc = mfcc[:, :max_len]\n",
    "    else:\n",
    "        mfcc = np.pad(mfcc, ((0, 0), (0, max_len - mfcc.shape[1])), mode=\"constant\")\n",
    "    return mfcc"
   ],
   "metadata": {
    "collapsed": false,
    "ExecuteTime": {
     "end_time": "2025-02-18T12:37:04.886406Z",
     "start_time": "2025-02-18T12:37:04.885168Z"
    }
   },
   "id": "22d190e4294bb295",
   "execution_count": 3
  },
  {
   "cell_type": "code",
   "outputs": [
    {
     "name": "stdout",
     "output_type": "stream",
     "text": [
      "label\n",
      "0    225\n",
      "1    224\n",
      "Name: count, dtype: int64\n",
      "449 files handled\n"
     ]
    }
   ],
   "source": [
    "features, labels = [], []\n",
    "\n",
    "for _, row in df.iterrows():\n",
    "    mfcc = extract_mfcc(row[\"file_path\"])\n",
    "    if mfcc is not None:\n",
    "        features.append(mfcc)\n",
    "        labels.append(row[\"label\"])\n",
    "\n",
    "features = np.array(features)\n",
    "labels = np.array(labels)\n",
    "\n",
    "np.save(\"features.npy\", features)\n",
    "np.save(\"labels.npy\", labels)\n",
    "\n",
    "print(df[\"label\"].value_counts())\n",
    "print(f\"{len(features)} files handled\")\n",
    "\n",
    "features = np.load(\"features.npy\")\n",
    "labels = np.load(\"labels.npy\")"
   ],
   "metadata": {
    "collapsed": false,
    "ExecuteTime": {
     "end_time": "2025-02-18T12:37:08.504315Z",
     "start_time": "2025-02-18T12:37:04.889075Z"
    }
   },
   "id": "e3b860e8549d837e",
   "execution_count": 4
  },
  {
   "cell_type": "code",
   "outputs": [],
   "source": [
    "class VoiceDataset(Dataset):\n",
    "    def __init__(self, features, labels):\n",
    "        self.features = features\n",
    "        self.labels = labels\n",
    "\n",
    "    def __len__(self):\n",
    "        return len(self.labels)\n",
    "\n",
    "    def __getitem__(self, idx):\n",
    "        mfcc = torch.tensor(self.features[idx], dtype=torch.float32)\n",
    "        label = torch.tensor(self.labels[idx], dtype=torch.long)\n",
    "        return mfcc.T, label"
   ],
   "metadata": {
    "collapsed": false,
    "ExecuteTime": {
     "end_time": "2025-02-18T12:37:08.509776Z",
     "start_time": "2025-02-18T12:37:08.506088Z"
    }
   },
   "id": "a381a858c2d6c14e",
   "execution_count": 5
  },
  {
   "cell_type": "code",
   "outputs": [],
   "source": [
    "input_size = 13\n",
    "hidden_size = 128\n",
    "batch_size = 32\n",
    "lr = 0.001\n",
    "epochs = 10\n",
    "\n",
    "dataset = VoiceDataset(features, labels)\n",
    "\n",
    "train_size = int(0.8 * len(dataset))\n",
    "val_size = len(dataset) - train_size\n",
    "train_dataset, val_dataset = random_split(dataset, [train_size, val_size])\n",
    "\n",
    "\n",
    "train_loader = DataLoader(train_dataset, batch_size=batch_size, shuffle=True)\n",
    "val_loader = DataLoader(val_dataset, batch_size=batch_size, shuffle=False)"
   ],
   "metadata": {
    "collapsed": false,
    "ExecuteTime": {
     "end_time": "2025-02-18T12:37:08.518410Z",
     "start_time": "2025-02-18T12:37:08.510264Z"
    }
   },
   "id": "b422997a9d27475e",
   "execution_count": 6
  },
  {
   "cell_type": "code",
   "outputs": [],
   "source": [
    "class GenderClassifier(nn.Module):\n",
    "    def __init__(self, input_size, hidden_size):\n",
    "        super(GenderClassifier, self).__init__()\n",
    "        self.lstm = nn.LSTM(input_size, hidden_size, batch_first=True)\n",
    "        self.dropout = nn.Dropout(0.3)\n",
    "        self.fc = nn.Linear(hidden_size, 2)\n",
    "\n",
    "    def forward(self, x):\n",
    "        _, (h_n, _) = self.lstm(x)\n",
    "        x = h_n[-1]\n",
    "        x = self.dropout(x)\n",
    "        return self.fc(x)"
   ],
   "metadata": {
    "collapsed": false,
    "ExecuteTime": {
     "end_time": "2025-02-18T12:37:08.522979Z",
     "start_time": "2025-02-18T12:37:08.519539Z"
    }
   },
   "id": "dda7e5c070d56669",
   "execution_count": 7
  },
  {
   "cell_type": "code",
   "outputs": [
    {
     "name": "stdout",
     "output_type": "stream",
     "text": [
      "Epoch 1: Train Loss: 0.6961, Val Loss: 0.6652, Accuracy: 0.6333, Precision: 0.6857, Recall: 0.5217\n",
      "Epoch 2: Train Loss: 0.6342, Val Loss: 0.6294, Accuracy: 0.7333, Precision: 0.7115, Recall: 0.8043\n",
      "Epoch 3: Train Loss: 0.5913, Val Loss: 0.5842, Accuracy: 0.7667, Precision: 0.8205, Recall: 0.6957\n",
      "Epoch 4: Train Loss: 0.5583, Val Loss: 0.5274, Accuracy: 0.7778, Precision: 0.8250, Recall: 0.7174\n",
      "Epoch 5: Train Loss: 0.5145, Val Loss: 0.4918, Accuracy: 0.7667, Precision: 0.8205, Recall: 0.6957\n",
      "Epoch 6: Train Loss: 0.4915, Val Loss: 0.4602, Accuracy: 0.7889, Precision: 0.8462, Recall: 0.7174\n",
      "Epoch 7: Train Loss: 0.4341, Val Loss: 0.4397, Accuracy: 0.7889, Precision: 0.8649, Recall: 0.6957\n",
      "Epoch 8: Train Loss: 0.3977, Val Loss: 0.4048, Accuracy: 0.8444, Precision: 0.8810, Recall: 0.8043\n",
      "Epoch 9: Train Loss: 0.3797, Val Loss: 0.3879, Accuracy: 0.8111, Precision: 0.8718, Recall: 0.7391\n",
      "Epoch 10: Train Loss: 0.3354, Val Loss: 0.3618, Accuracy: 0.8111, Precision: 0.8537, Recall: 0.7609\n"
     ]
    }
   ],
   "source": [
    "device = torch.device(\"cuda\" if torch.cuda.is_available() else \"cpu\")\n",
    "model = GenderClassifier(input_size, hidden_size).to(device)\n",
    "criterion = nn.CrossEntropyLoss()\n",
    "optimizer = optim.Adam(model.parameters(), lr=lr)\n",
    "\n",
    "for epoch in range(epochs):\n",
    "    model.train()\n",
    "    train_losses = []\n",
    "    for batch_features, batch_labels in train_loader:\n",
    "        batch_features, batch_labels = batch_features.to(device), batch_labels.to(device)\n",
    "        outputs = model(batch_features)\n",
    "        loss = criterion(outputs, batch_labels)\n",
    "        optimizer.zero_grad()\n",
    "        loss.backward()\n",
    "        torch.nn.utils.clip_grad_norm_(model.parameters(), max_norm=1.0)\n",
    "        optimizer.step()\n",
    "        train_losses.append(loss.item())\n",
    "    avg_train_loss = np.mean(train_losses)\n",
    "\n",
    "    model.eval()\n",
    "    val_losses = []\n",
    "    all_preds = []\n",
    "    all_targets = []\n",
    "    with torch.no_grad():\n",
    "        for batch_features, batch_labels in val_loader:\n",
    "            batch_features, batch_labels = batch_features.to(device), batch_labels.to(device)\n",
    "            outputs = model(batch_features)\n",
    "            loss = criterion(outputs, batch_labels)\n",
    "            val_losses.append(loss.item())\n",
    "            preds = outputs.argmax(dim=1)\n",
    "            all_preds.extend(preds.cpu().numpy())\n",
    "            all_targets.extend(batch_labels.cpu().numpy())\n",
    "    avg_val_loss = np.mean(val_losses)\n",
    "\n",
    "    accuracy = accuracy_score(all_targets, all_preds)\n",
    "    precision = precision_score(all_targets, all_preds)\n",
    "    recall = recall_score(all_targets, all_preds)\n",
    "\n",
    "    print(f\"Epoch {epoch + 1}: Train Loss: {avg_train_loss:.4f}, Val Loss: {avg_val_loss:.4f}, \"\n",
    "          f\"Accuracy: {accuracy:.4f}, Precision: {precision:.4f}, Recall: {recall:.4f}\")"
   ],
   "metadata": {
    "collapsed": false,
    "ExecuteTime": {
     "end_time": "2025-02-18T12:37:12.146522Z",
     "start_time": "2025-02-18T12:37:08.528048Z"
    }
   },
   "id": "15808c26e029ed1",
   "execution_count": 8
  },
  {
   "cell_type": "code",
   "outputs": [
    {
     "name": "stderr",
     "output_type": "stream",
     "text": [
      "2025-02-18 15:37:13.801 Python[6320:209575] WARNING: Secure coding is not enabled for restorable state! Enable secure coding by implementing NSApplicationDelegate.applicationSupportsSecureRestorableState: and returning YES.\n"
     ]
    }
   ],
   "source": [
    "def extract_embeddings(model, dataset, batch_size=32):\n",
    "    model.eval()\n",
    "    dataloader = DataLoader(dataset, batch_size=batch_size, shuffle=False)\n",
    "\n",
    "    all_embeddings = []\n",
    "    all_labels = []\n",
    "\n",
    "    with torch.no_grad():\n",
    "        for batch_features, batch_labels in dataloader:\n",
    "            batch_features = batch_features.to(device)\n",
    "            _, (h_n, _) = model.lstm(batch_features)\n",
    "            embeddings = h_n[-1]\n",
    "            embeddings = model.dropout(embeddings)\n",
    "            all_embeddings.append(embeddings.cpu().numpy())\n",
    "            all_labels.append(batch_labels.cpu().numpy())\n",
    "\n",
    "    all_embeddings = np.concatenate(all_embeddings, axis=0)\n",
    "    all_labels = np.concatenate(all_labels, axis=0)\n",
    "    return all_embeddings, all_labels\n",
    "\n",
    "embeddings, labels = extract_embeddings(model, dataset, batch_size=32)\n",
    "\n",
    "tsne = TSNE(n_components=2, random_state=42)\n",
    "embeddings_2d = tsne.fit_transform(embeddings)\n",
    "\n",
    "plt.figure(figsize=(8,6))\n",
    "scatter = plt.scatter(embeddings_2d[:, 0], embeddings_2d[:, 1], c=labels, cmap='viridis', alpha=0.7)\n",
    "plt.title(\"tsne: отображение эмбеддингов в 2d\")\n",
    "plt.xlabel(\"Dimension 1\")\n",
    "plt.ylabel(\"Dimension 2\")\n",
    "\n",
    "legend1 = plt.legend(*scatter.legend_elements(), title=\"Класс\")\n",
    "plt.gca().add_artist(legend1)\n",
    "plt.show()"
   ],
   "metadata": {
    "collapsed": true,
    "ExecuteTime": {
     "end_time": "2025-02-18T12:37:27.460137Z",
     "start_time": "2025-02-18T12:37:12.148101Z"
    }
   },
   "id": "initial_id",
   "execution_count": 9
  }
 ],
 "metadata": {
  "kernelspec": {
   "display_name": "Python 3",
   "language": "python",
   "name": "python3"
  },
  "language_info": {
   "codemirror_mode": {
    "name": "ipython",
    "version": 2
   },
   "file_extension": ".py",
   "mimetype": "text/x-python",
   "name": "python",
   "nbconvert_exporter": "python",
   "pygments_lexer": "ipython2",
   "version": "2.7.6"
  }
 },
 "nbformat": 4,
 "nbformat_minor": 5
}
