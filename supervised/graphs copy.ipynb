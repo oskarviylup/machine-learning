{
 "cells": [
  {
   "cell_type": "code",
   "outputs": [],
   "source": [
    "import pandas as pd\n",
    "import seaborn as sns\n",
    "import numpy as np\n",
    "from matplotlib import pyplot as plt"
   ],
   "metadata": {
    "collapsed": false
   },
   "id": "d0db50f3c47bfc73"
  },
  {
   "cell_type": "code",
   "outputs": [],
   "source": [
    "df = pd.read_csv('final_data_set_ready_for_model.csv')"
   ],
   "metadata": {
    "collapsed": false
   },
   "id": "324b60dcedba8aef"
  },
  {
   "cell_type": "code",
   "outputs": [],
   "source": [
    "df['engine_type'].value_counts().plot(kind='bar')\n",
    "plt.title('Частота типов двигателя')\n",
    "plt.xlabel('Тип двигателя')\n",
    "plt.ylabel('Количество')\n",
    "plt.show()"
   ],
   "metadata": {
    "collapsed": false
   },
   "id": "35e5832d059cbfb4"
  },
  {
   "cell_type": "code",
   "outputs": [],
   "source": [
    "df.plot(kind='scatter', x='year_of_creation', y='price', alpha=0.5)\n",
    "plt.title('dependency beetween years of creation and price')\n",
    "plt.xlabel('Years of creation')\n",
    "plt.ylabel('Prices')\n",
    "plt.show()"
   ],
   "metadata": {
    "collapsed": false
   },
   "id": "7668d07eed7a078e"
  },
  {
   "cell_type": "code",
   "outputs": [],
   "source": [
    "y = df['price']\n",
    "y_log = np.log1p(y)\n",
    "plt.figure(figsize=(10, 6))\n",
    "sns.histplot(y_log, kde=True, bins=30, color='blue')\n",
    "plt.title('Распределение цен', fontsize=16)\n",
    "plt.xlabel('Цена', fontsize=12)\n",
    "plt.ylabel('Частота', fontsize=12)\n",
    "plt.show()"
   ],
   "metadata": {
    "collapsed": false
   },
   "id": "40a2bda2dfb23583"
  },
  {
   "cell_type": "code",
   "outputs": [],
   "source": [
    "Q1 = y_log.quantile(0.25)\n",
    "Q3 = y_log.quantile(0.75)\n",
    "IQR = Q3 - Q1\n",
    "\n",
    "lower_bound = Q1 - 1.5 * IQR\n",
    "upper_bound = Q3 + 1.5 * IQR\n",
    "\n",
    "print(f\"Нижняя граница: {lower_bound}, Верхняя граница: {upper_bound}\")\n",
    "\n",
    "outliers = y_log[(y_log < lower_bound) | (y_log > upper_bound)]\n",
    "print(f\"Число выбросов: {len(outliers)}\")"
   ],
   "metadata": {
    "collapsed": false
   },
   "id": "2134304e30da1832"
  }
 ],
 "metadata": {
  "kernelspec": {
   "display_name": "Python 3",
   "language": "python",
   "name": "python3"
  },
  "language_info": {
   "codemirror_mode": {
    "name": "ipython",
    "version": 2
   },
   "file_extension": ".py",
   "mimetype": "text/x-python",
   "name": "python",
   "nbconvert_exporter": "python",
   "pygments_lexer": "ipython2",
   "version": "2.7.6"
  }
 },
 "nbformat": 4,
 "nbformat_minor": 5
}
