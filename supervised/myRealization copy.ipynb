{
 "cells": [
  {
   "cell_type": "code",
   "outputs": [],
   "source": [
    "import numpy as np\n",
    "import pandas as pd\n",
    "from sklearn.model_selection import train_test_split\n",
    "from sklearn.metrics import mean_squared_error, mean_absolute_error\n",
    "from sklearn.preprocessing import StandardScaler, OneHotEncoder\n",
    "from itertools import product"
   ],
   "metadata": {
    "collapsed": false,
    "ExecuteTime": {
     "end_time": "2025-02-18T12:52:49.683935Z",
     "start_time": "2025-02-18T12:52:46.200122Z"
    }
   },
   "id": "6398cff56e2099e5",
   "execution_count": 1
  },
  {
   "cell_type": "code",
   "outputs": [],
   "source": [
    "class CustomLinearRegression:\n",
    "    def __init__(self, fit_intercept=True, alpha=0.0, normalize=False):\n",
    "        self.fit_intercept = fit_intercept\n",
    "        self.alpha = alpha\n",
    "        self.normalize = normalize\n",
    "        self.coefficients = None\n",
    "        self.intercept = None\n",
    "\n",
    "    def fit(self, X, y):\n",
    "        X = X.copy()\n",
    "        if self.normalize:\n",
    "            self.scaler = StandardScaler()\n",
    "            X = self.scaler.fit_transform(X)\n",
    "\n",
    "        if self.fit_intercept:\n",
    "            X = np.c_[np.ones(X.shape[0]), X]\n",
    "\n",
    "        I = np.eye(X.shape[1])\n",
    "        I[0, 0] = 0\n",
    "        self.coefficients = np.linalg.inv(X.T @ X + self.alpha * I) @ X.T @ y\n",
    "\n",
    "        if self.fit_intercept:\n",
    "            self.intercept = self.coefficients[0]\n",
    "            self.coefficients = self.coefficients[1:]\n",
    "\n",
    "    def predict(self, X):\n",
    "        X = X.copy()\n",
    "        if self.normalize:\n",
    "            X = self.scaler.transform(X)\n",
    "\n",
    "        if self.fit_intercept:\n",
    "            return X @ self.coefficients + self.intercept\n",
    "        else:\n",
    "            return X @ self.coefficients"
   ],
   "metadata": {
    "collapsed": false,
    "ExecuteTime": {
     "end_time": "2025-02-18T12:52:49.694965Z",
     "start_time": "2025-02-18T12:52:49.687376Z"
    }
   },
   "id": "4de6598d8d675e2",
   "execution_count": 2
  },
  {
   "cell_type": "code",
   "outputs": [],
   "source": [
    "df = pd.read_csv('final_data_set_ready_for_model.csv')\n",
    "\n",
    "x = df.drop(columns=['price'])\n",
    "df['price'] = np.log1p(df['price'])\n",
    "y = df['price']\n",
    "\n",
    "x_train, x_temp, y_train, y_temp = train_test_split(x, y, test_size=0.4, random_state=42, stratify=df['engine_type'])\n",
    "x_val, x_test, y_val, y_test = train_test_split(x_temp, y_temp, test_size=0.5, random_state=42,\n",
    "                                                stratify=x_temp['engine_type'])"
   ],
   "metadata": {
    "collapsed": false,
    "ExecuteTime": {
     "end_time": "2025-02-18T12:52:49.705661Z",
     "start_time": "2025-02-18T12:52:49.691428Z"
    }
   },
   "id": "715404a71c49c2ec",
   "execution_count": 3
  },
  {
   "cell_type": "code",
   "outputs": [],
   "source": [
    "one_hot_encoder = OneHotEncoder(drop='first', handle_unknown='ignore')\n",
    "one_hot_encoder.fit(df[['brand', 'engine_type']])\n",
    "\n",
    "encoded_train = one_hot_encoder.transform(x_train[['brand', 'engine_type']]).toarray()\n",
    "encoded_val = one_hot_encoder.transform(x_val[['brand', 'engine_type']]).toarray()\n",
    "encoded_test = one_hot_encoder.transform(x_test[['brand', 'engine_type']]).toarray()\n",
    "\n",
    "columns = one_hot_encoder.get_feature_names_out(['brand', 'engine_type'])\n",
    "encoded_train = pd.DataFrame(encoded_train, columns=columns, index=x_train.index)\n",
    "encoded_val = pd.DataFrame(encoded_val, columns=columns, index=x_val.index)\n",
    "encoded_test = pd.DataFrame(encoded_test, columns=columns, index=x_test.index)\n",
    "\n",
    "x_train = pd.concat([x_train.drop(columns=['brand', 'engine_type']), encoded_train], axis=1)\n",
    "x_val = pd.concat([x_val.drop(columns=['brand', 'engine_type']), encoded_val], axis=1)\n",
    "x_test = pd.concat([x_test.drop(columns=['brand', 'engine_type']), encoded_test], axis=1)"
   ],
   "metadata": {
    "collapsed": false,
    "ExecuteTime": {
     "end_time": "2025-02-18T12:52:49.726018Z",
     "start_time": "2025-02-18T12:52:49.711892Z"
    }
   },
   "id": "d54f4fc9b7f35b66",
   "execution_count": 4
  },
  {
   "cell_type": "code",
   "outputs": [
    {
     "name": "stdout",
     "output_type": "stream",
     "text": [
      "Best parameters: {'fit_intercept': True, 'alpha': 10, 'normalize': True}\n",
      "Best validation MSE: 0.12659523427313565\n",
      "Test MSE: 0.11844389087994946, Test MAE: 0.25126200846354607\n"
     ]
    }
   ],
   "source": [
    "fit_intercept_options = [True, False]\n",
    "alpha_values = [0.001, 0.01, 0.1, 1, 10, 100]\n",
    "normalize_options = [True, False]\n",
    "\n",
    "best_mse = float('inf')\n",
    "best_params = None\n",
    "best_model = None\n",
    "\n",
    "for fit_intercept, alpha, normalize in product(fit_intercept_options, alpha_values, normalize_options):\n",
    "    model = CustomLinearRegression(fit_intercept=fit_intercept, alpha=alpha, normalize=normalize)\n",
    "    model.fit(x_train.values, y_train.values)\n",
    "    val_predictions = model.predict(x_val.values)\n",
    "\n",
    "    mse = mean_squared_error(y_val, val_predictions)\n",
    "\n",
    "    if mse < best_mse:\n",
    "        best_mse = mse\n",
    "        best_params = {'fit_intercept': fit_intercept, 'alpha': alpha, 'normalize': normalize}\n",
    "        best_model = model\n",
    "\n",
    "print(f\"Best parameters: {best_params}\")\n",
    "print(f\"Best validation MSE: {best_mse}\")\n",
    "\n",
    "test_predictions = best_model.predict(x_test.values)\n",
    "mse_test = mean_squared_error(y_test, test_predictions)\n",
    "mae_test = mean_absolute_error(y_test, test_predictions)\n",
    "\n",
    "print(f\"Test MSE: {mse_test}, Test MAE: {mae_test}\")"
   ],
   "metadata": {
    "collapsed": false,
    "ExecuteTime": {
     "end_time": "2025-02-18T12:52:49.756263Z",
     "start_time": "2025-02-18T12:52:49.723936Z"
    }
   },
   "id": "6729c9ee8eeb2843",
   "execution_count": 5
  }
 ],
 "metadata": {
  "kernelspec": {
   "display_name": "Python 3",
   "language": "python",
   "name": "python3"
  },
  "language_info": {
   "codemirror_mode": {
    "name": "ipython",
    "version": 2
   },
   "file_extension": ".py",
   "mimetype": "text/x-python",
   "name": "python",
   "nbconvert_exporter": "python",
   "pygments_lexer": "ipython2",
   "version": "2.7.6"
  }
 },
 "nbformat": 4,
 "nbformat_minor": 5
}
