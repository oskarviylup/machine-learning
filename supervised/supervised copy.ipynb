{
 "cells": [
  {
   "cell_type": "code",
   "execution_count": 1,
   "id": "129d48ec994e0477",
   "metadata": {
    "collapsed": false,
    "ExecuteTime": {
     "end_time": "2025-02-18T12:54:06.150225Z",
     "start_time": "2025-02-18T12:54:05.138540Z"
    }
   },
   "outputs": [],
   "source": [
    "import pandas as pd\n",
    "import numpy as np\n",
    "from sklearn.model_selection import train_test_split\n",
    "from sklearn.metrics import mean_squared_error, mean_absolute_error\n",
    "from sklearn.linear_model import LinearRegression\n",
    "from sklearn.model_selection import GridSearchCV\n",
    "from sklearn.pipeline import Pipeline\n",
    "from sklearn.preprocessing import StandardScaler\n",
    "from sklearn.preprocessing import OneHotEncoder\n",
    "from sklearn.linear_model import Ridge"
   ]
  },
  {
   "cell_type": "code",
   "outputs": [],
   "source": [
    "df = pd.read_csv('final_data_set_ready_for_model.csv')\n",
    "\n",
    "x = df.drop(columns=['price'])\n",
    "df['price'] = np.log1p(df['price'])\n",
    "y = df['price']\n",
    "\n",
    "x_train, x_temp, y_train, y_temp = train_test_split(\n",
    "    x, y, test_size=0.4, random_state=42, stratify=df['engine_type']\n",
    ")\n",
    "x_val, x_test, y_val, y_test = train_test_split(\n",
    "    x_temp, y_temp, test_size=0.5, random_state=42, stratify=x_temp['engine_type']\n",
    ")"
   ],
   "metadata": {
    "collapsed": false,
    "ExecuteTime": {
     "end_time": "2025-02-18T12:54:06.159791Z",
     "start_time": "2025-02-18T12:54:06.151731Z"
    }
   },
   "id": "e57e2b26dfe489f6",
   "execution_count": 2
  },
  {
   "cell_type": "code",
   "outputs": [],
   "source": [
    "one_hot_encoder = OneHotEncoder(drop='first', handle_unknown='ignore')\n",
    "one_hot_encoder.fit(df[['brand', 'engine_type']])\n",
    "\n",
    "encoded_train = one_hot_encoder.transform(x_train[['brand', 'engine_type']]).toarray()\n",
    "encoded_val = one_hot_encoder.transform(x_val[['brand', 'engine_type']]).toarray()\n",
    "encoded_test = one_hot_encoder.transform(x_test[['brand', 'engine_type']]).toarray()\n",
    "\n",
    "columns = one_hot_encoder.get_feature_names_out(['brand', 'engine_type'])\n",
    "encoded_train = pd.DataFrame(encoded_train, columns=columns, index=x_train.index)\n",
    "encoded_val = pd.DataFrame(encoded_val, columns=columns, index=x_val.index)\n",
    "encoded_test = pd.DataFrame(encoded_test, columns=columns, index=x_test.index)\n",
    "\n",
    "x_train = pd.concat([x_train.drop(columns=['brand', 'engine_type']), encoded_train], axis=1)\n",
    "x_val = pd.concat([x_val.drop(columns=['brand', 'engine_type']), encoded_val], axis=1)\n",
    "x_test = pd.concat([x_test.drop(columns=['brand', 'engine_type']), encoded_test], axis=1)"
   ],
   "metadata": {
    "collapsed": false,
    "ExecuteTime": {
     "end_time": "2025-02-18T12:54:06.168956Z",
     "start_time": "2025-02-18T12:54:06.163716Z"
    }
   },
   "id": "5aeabc3dab95e6a2",
   "execution_count": 3
  },
  {
   "cell_type": "code",
   "outputs": [],
   "source": [
    "def baseline():\n",
    "    mean_price = y_train.mean()\n",
    "\n",
    "    baseline_predictions_mean = [mean_price] * len(y_val)\n",
    "\n",
    "    mse_mean = mean_squared_error(y_val, baseline_predictions_mean)\n",
    "    mae_mean = mean_absolute_error(y_val, baseline_predictions_mean)\n",
    "    print(f\"Baseline (Mean) -> MSE: {mse_mean}, MAE: {mae_mean}\")\n",
    "\n",
    "\n",
    "    median_price = y_train.median()\n",
    "\n",
    "    baseline_predictions_median = [median_price] * len(y_val)\n",
    "\n",
    "    mse_median = mean_squared_error(y_val, baseline_predictions_median)\n",
    "    mae_median = mean_absolute_error(y_val, baseline_predictions_median)\n",
    "    print(f\"Baseline (Median) -> MSE: {mse_median}, MAE: {mae_median}\")"
   ],
   "metadata": {
    "collapsed": false,
    "ExecuteTime": {
     "end_time": "2025-02-18T12:54:06.172389Z",
     "start_time": "2025-02-18T12:54:06.170303Z"
    }
   },
   "id": "d181423087b6de1",
   "execution_count": 4
  },
  {
   "cell_type": "code",
   "outputs": [],
   "source": [
    "def linear_model():\n",
    "    linear_regression_model = LinearRegression()\n",
    "    linear_regression_model.fit(x_train, y_train)\n",
    "\n",
    "    val_predictions = linear_regression_model.predict(x_val)\n",
    "\n",
    "    mse = mean_squared_error(y_val, val_predictions)\n",
    "    mae = mean_absolute_error(y_val, val_predictions)\n",
    "\n",
    "    print(f\"Validation MSE: {mse}, Validation MAE: {mae}\")"
   ],
   "metadata": {
    "collapsed": false,
    "ExecuteTime": {
     "end_time": "2025-02-18T12:54:06.177496Z",
     "start_time": "2025-02-18T12:54:06.174354Z"
    }
   },
   "id": "ad79af7524a10a5",
   "execution_count": 5
  },
  {
   "cell_type": "code",
   "outputs": [],
   "source": [
    "def grid_search():\n",
    "    pipeline = Pipeline([\n",
    "        ('scaler', StandardScaler()),\n",
    "        ('model', Ridge())\n",
    "    ])\n",
    "\n",
    "    param_grid = {\n",
    "        'model__alpha': [0.001, 0.01, 0.1, 1, 10, 100],\n",
    "        'model__fit_intercept': [True, False]\n",
    "    }\n",
    "\n",
    "    grid_search = GridSearchCV(pipeline, param_grid, scoring='neg_mean_squared_error', cv=5)\n",
    "    grid_search.fit(x_train, y_train)\n",
    "\n",
    "    print(f\"Best parameters: {grid_search.best_params_}\")\n",
    "    print(f\"Best CV MSE: {-grid_search.best_score_}\")\n",
    "\n",
    "    best_model = grid_search.best_estimator_\n",
    "    val_predictions_gs = best_model.predict(x_val)\n",
    "    mse_gs = mean_squared_error(y_val, val_predictions_gs)\n",
    "    print(f\"Validation (GridSearch) MSE: {mse_gs}\")"
   ],
   "metadata": {
    "collapsed": false,
    "ExecuteTime": {
     "end_time": "2025-02-18T12:54:06.182811Z",
     "start_time": "2025-02-18T12:54:06.178165Z"
    }
   },
   "id": "1138c756bbaf8ccc",
   "execution_count": 6
  },
  {
   "cell_type": "code",
   "outputs": [],
   "source": [
    "def evaluate_on_test():\n",
    "    best_model = GridSearchCV(\n",
    "        Pipeline([('scaler', StandardScaler()), ('model', Ridge())]),\n",
    "        {'model__alpha': [0.001, 0.01, 0.1, 1, 10, 100], 'model__fit_intercept': [True, False]},\n",
    "        scoring='neg_mean_squared_error',\n",
    "        cv=5\n",
    "    ).fit(x_train, y_train).best_estimator_\n",
    "\n",
    "    test_predictions = best_model.predict(x_test)\n",
    "    mse_test = mean_squared_error(y_test, test_predictions)\n",
    "    mae_test = mean_absolute_error(y_test, test_predictions)\n",
    "\n",
    "    print(f\"Test MSE: {mse_test}, Test MAE: {mae_test}\")"
   ],
   "metadata": {
    "collapsed": false,
    "ExecuteTime": {
     "end_time": "2025-02-18T12:54:06.186377Z",
     "start_time": "2025-02-18T12:54:06.181515Z"
    }
   },
   "id": "b24eacf670770db1",
   "execution_count": 7
  },
  {
   "cell_type": "code",
   "outputs": [
    {
     "name": "stdout",
     "output_type": "stream",
     "text": [
      "Baseline (Mean) -> MSE: 0.8131543996071204, MAE: 0.6971718741229858\n",
      "Baseline (Median) -> MSE: 0.8221096629435507, MAE: 0.6963094041481983\n",
      "Validation MSE: 0.1529364753735695, Validation MAE: 0.2680316449441729\n",
      "Best parameters: {'model__alpha': 10, 'model__fit_intercept': True}\n",
      "Best CV MSE: 0.15497540254998526\n",
      "Validation (GridSearch) MSE: 0.12659523427313948\n",
      "Test MSE: 0.11844389087995234, Test MAE: 0.25126200846354585\n"
     ]
    }
   ],
   "source": [
    "baseline()\n",
    "linear_model()\n",
    "grid_search()\n",
    "evaluate_on_test()"
   ],
   "metadata": {
    "collapsed": true,
    "ExecuteTime": {
     "end_time": "2025-02-18T12:54:06.493561Z",
     "start_time": "2025-02-18T12:54:06.185051Z"
    }
   },
   "id": "initial_id",
   "execution_count": 8
  }
 ],
 "metadata": {
  "kernelspec": {
   "display_name": "Python 3",
   "language": "python",
   "name": "python3"
  },
  "language_info": {
   "codemirror_mode": {
    "name": "ipython",
    "version": 2
   },
   "file_extension": ".py",
   "mimetype": "text/x-python",
   "name": "python",
   "nbconvert_exporter": "python",
   "pygments_lexer": "ipython2",
   "version": "2.7.6"
  }
 },
 "nbformat": 4,
 "nbformat_minor": 5
}
